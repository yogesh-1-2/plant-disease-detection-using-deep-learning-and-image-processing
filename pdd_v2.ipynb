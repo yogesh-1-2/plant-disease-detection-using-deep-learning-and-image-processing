{
 "cells": [
  {
   "cell_type": "code",
   "execution_count": 11,
   "metadata": {
    "colab": {
     "base_uri": "https://localhost:8080/"
    },
    "id": "fCCWND7OR4Rz",
    "outputId": "90d84192-f414-4b5a-c590-c9787c841133"
   },
   "outputs": [
    {
     "name": "stdout",
     "output_type": "stream",
     "text": [
      "Drive already mounted at /content/gdrive; to attempt to forcibly remount, call drive.mount(\"/content/gdrive\", force_remount=True).\n"
     ]
    }
   ],
   "source": [
    "import os\n",
    "import matplotlib.pyplot as plt\n",
    "import numpy as np\n",
    "from google.colab import drive\n",
    "import tensorflow as tf\n",
    "from tensorflow import keras\n",
    "drive.mount('/content/gdrive')"
   ]
  },
  {
   "cell_type": "code",
   "execution_count": 6,
   "metadata": {
    "colab": {
     "base_uri": "https://localhost:8080/"
    },
    "id": "6T8cQJK7Rgzw",
    "outputId": "8322a269-283c-47cd-8050-dc73b672fb83"
   },
   "outputs": [
    {
     "name": "stdout",
     "output_type": "stream",
     "text": [
      "Downloading...\n",
      "From: https://drive.google.com/uc?id=18DbC6Xj4NP-hLzI14WuMaAEyq482vNfn\n",
      "To: /content/PlantVillage.zip\n",
      "866MB [00:08, 99.7MB/s]\n"
     ]
    }
   ],
   "source": [
    "file_id = '18DbC6Xj4NP-hLzI14WuMaAEyq482vNfn'\n",
    "\n",
    "# Download dataset\n",
    "!gdown https://drive.google.com/uc?id={file_id}\n",
    "\n",
    "# Unzip the downloaded file\n",
    "!unzip -q PlantVillage.zip"
   ]
  },
  {
   "cell_type": "markdown",
   "metadata": {
    "id": "0eslG1ifm6pp"
   },
   "source": [
    "Generating Image Generators for train and validation"
   ]
  },
  {
   "cell_type": "code",
   "execution_count": 22,
   "metadata": {
    "colab": {
     "base_uri": "https://localhost:8080/"
    },
    "id": "eLmeBf9YUjiA",
    "outputId": "29039910-7c1c-4fbb-dbc7-76d02118c2e5"
   },
   "outputs": [
    {
     "name": "stdout",
     "output_type": "stream",
     "text": [
      "Found 44016 images belonging to 39 classes.\n",
      "Found 11004 images belonging to 39 classes.\n"
     ]
    }
   ],
   "source": [
    "batch_size = 128\n",
    "from tensorflow.keras.preprocessing.image import ImageDataGenerator\n",
    "train_datagen = ImageDataGenerator(rescale=1/255)\n",
    "train_generator = train_datagen.flow_from_directory(\n",
    "        '/content/PlantVillage/train', \n",
    "        target_size=(200, 200),  \n",
    "        batch_size=batch_size,\n",
    "        classes = classes_train,\n",
    "        class_mode='categorical')\n",
    "val_datagen = ImageDataGenerator(rescale=1/255)\n",
    "val_generator = val_datagen.flow_from_directory(\n",
    "        '/content/PlantVillage/val', \n",
    "        target_size=(200, 200),  \n",
    "        batch_size=batch_size,\n",
    "        classes = classes_train,\n",
    "        class_mode='categorical')"
   ]
  },
  {
   "cell_type": "markdown",
   "metadata": {
    "id": "gO3zKkSzmUKe"
   },
   "source": [
    "Model Creation \n",
    "\n"
   ]
  },
  {
   "cell_type": "code",
   "execution_count": 23,
   "metadata": {
    "colab": {
     "base_uri": "https://localhost:8080/"
    },
    "id": "ojVKVJ1DWWCs",
    "outputId": "b94d613a-df98-4da7-dcf5-348dda9affe1"
   },
   "outputs": [
    {
     "name": "stdout",
     "output_type": "stream",
     "text": [
      "Model: \"sequential\"\n",
      "_________________________________________________________________\n",
      "Layer (type)                 Output Shape              Param #   \n",
      "=================================================================\n",
      "conv2d (Conv2D)              (None, 198, 198, 16)      448       \n",
      "_________________________________________________________________\n",
      "batch_normalization (BatchNo (None, 198, 198, 16)      64        \n",
      "_________________________________________________________________\n",
      "max_pooling2d (MaxPooling2D) (None, 99, 99, 16)        0         \n",
      "_________________________________________________________________\n",
      "conv2d_1 (Conv2D)            (None, 97, 97, 32)        4640      \n",
      "_________________________________________________________________\n",
      "batch_normalization_1 (Batch (None, 97, 97, 32)        128       \n",
      "_________________________________________________________________\n",
      "max_pooling2d_1 (MaxPooling2 (None, 48, 48, 32)        0         \n",
      "_________________________________________________________________\n",
      "conv2d_2 (Conv2D)            (None, 46, 46, 64)        18496     \n",
      "_________________________________________________________________\n",
      "batch_normalization_2 (Batch (None, 46, 46, 64)        256       \n",
      "_________________________________________________________________\n",
      "max_pooling2d_2 (MaxPooling2 (None, 23, 23, 64)        0         \n",
      "_________________________________________________________________\n",
      "conv2d_3 (Conv2D)            (None, 21, 21, 64)        36928     \n",
      "_________________________________________________________________\n",
      "batch_normalization_3 (Batch (None, 21, 21, 64)        256       \n",
      "_________________________________________________________________\n",
      "max_pooling2d_3 (MaxPooling2 (None, 10, 10, 64)        0         \n",
      "_________________________________________________________________\n",
      "conv2d_4 (Conv2D)            (None, 8, 8, 64)          36928     \n",
      "_________________________________________________________________\n",
      "batch_normalization_4 (Batch (None, 8, 8, 64)          256       \n",
      "_________________________________________________________________\n",
      "max_pooling2d_4 (MaxPooling2 (None, 4, 4, 64)          0         \n",
      "_________________________________________________________________\n",
      "flatten (Flatten)            (None, 1024)              0         \n",
      "_________________________________________________________________\n",
      "dense (Dense)                (None, 128)               131200    \n",
      "_________________________________________________________________\n",
      "dense_1 (Dense)              (None, 39)                5031      \n",
      "=================================================================\n",
      "Total params: 234,631\n",
      "Trainable params: 234,151\n",
      "Non-trainable params: 480\n",
      "_________________________________________________________________\n"
     ]
    }
   ],
   "source": [
    "import tensorflow as tf\n",
    "model = tf.keras.models.Sequential([\n",
    "    # Note the input shape is the desired size of the image 200x 200 with 3 bytes color\n",
    "    # The first convolution\n",
    "    tf.keras.layers.Conv2D(16, (3,3), activation='relu', input_shape=(200, 200, 3)),\n",
    "    tf.keras.layers.BatchNormalization(),\n",
    "    tf.keras.layers.MaxPooling2D(2, 2),\n",
    "    # The second convolution\n",
    "    tf.keras.layers.Conv2D(32, (3,3), activation='relu'),\n",
    "    tf.keras.layers.BatchNormalization(),    \n",
    "    tf.keras.layers.MaxPooling2D(2,2),\n",
    "    # The third convolution\n",
    "    tf.keras.layers.Conv2D(64, (3,3), activation='relu'),\n",
    "    tf.keras.layers.BatchNormalization(),\n",
    "    tf.keras.layers.MaxPooling2D(2,2),\n",
    "    # The fourth convolution\n",
    "    tf.keras.layers.Conv2D(64, (3,3), activation='relu'),\n",
    "    tf.keras.layers.BatchNormalization(),\n",
    "    tf.keras.layers.MaxPooling2D(2,2),\n",
    "    # The fifth convolution\n",
    "    tf.keras.layers.Conv2D(64, (3,3), activation='relu'),\n",
    "    tf.keras.layers.BatchNormalization(),\n",
    "    tf.keras.layers.MaxPooling2D(2,2),\n",
    "    # Flatten the results to feed into a dense layer\n",
    "    tf.keras.layers.Flatten(),\n",
    "    # 128 neuron in the fully-connected layer\n",
    "    tf.keras.layers.Dense(128, activation='relu'),\n",
    "    # 5 output neurons for 5 classes with the softmax activation\n",
    "    tf.keras.layers.Dense(39, activation='softmax')\n",
    "])\n",
    "model.summary()"
   ]
  },
  {
   "cell_type": "markdown",
   "metadata": {
    "id": "tJWz1Iaml6V_"
   },
   "source": [
    "Compiling Model before training and testing"
   ]
  },
  {
   "cell_type": "code",
   "execution_count": 24,
   "metadata": {
    "id": "6yEYrrhOXKDH"
   },
   "outputs": [],
   "source": [
    "from tensorflow.keras.optimizers import RMSprop\n",
    "from tensorflow import keras\n",
    "\n",
    "model.compile(loss='categorical_crossentropy',\n",
    "              optimizer=RMSprop(lr=0.0005),\n",
    "              metrics=['acc'])"
   ]
  },
  {
   "cell_type": "markdown",
   "metadata": {
    "id": "sxtTnsbCmDWk"
   },
   "source": [
    "Creating callbacks and train"
   ]
  },
  {
   "cell_type": "code",
   "execution_count": 25,
   "metadata": {
    "colab": {
     "base_uri": "https://localhost:8080/"
    },
    "id": "Da3QYzkXlW-m",
    "outputId": "a04f27bd-4ad8-4195-94a0-6c472e2867a3"
   },
   "outputs": [
    {
     "name": "stdout",
     "output_type": "stream",
     "text": [
      "WARNING:tensorflow:`period` argument is deprecated. Please use `save_freq` to specify the frequency in number of batches seen.\n",
      "WARNING:tensorflow:`batch_size` is no longer needed in the `TensorBoard` Callback and will be ignored in TensorFlow 2.0.\n"
     ]
    },
    {
     "name": "stderr",
     "output_type": "stream",
     "text": [
      "/usr/local/lib/python3.7/dist-packages/tensorflow/python/keras/engine/training.py:1844: UserWarning: `Model.fit_generator` is deprecated and will be removed in a future version. Please use `Model.fit`, which supports generators.\n",
      "  warnings.warn('`Model.fit_generator` is deprecated and '\n"
     ]
    },
    {
     "name": "stdout",
     "output_type": "stream",
     "text": [
      "Epoch 1/30\n",
      "343/343 [==============================] - 123s 266ms/step - loss: 1.5101 - acc: 0.5963 - val_loss: 6.1763 - val_acc: 0.1264\n",
      "Epoch 2/30\n",
      "343/343 [==============================] - 88s 258ms/step - loss: 0.3676 - acc: 0.8878 - val_loss: 0.4946 - val_acc: 0.8432\n",
      "Epoch 3/30\n",
      "343/343 [==============================] - 88s 257ms/step - loss: 0.1965 - acc: 0.9368 - val_loss: 0.3143 - val_acc: 0.8971\n",
      "Epoch 4/30\n",
      "343/343 [==============================] - 87s 253ms/step - loss: 0.1242 - acc: 0.9609 - val_loss: 0.3401 - val_acc: 0.8947\n",
      "Epoch 5/30\n",
      "343/343 [==============================] - 87s 254ms/step - loss: 0.0878 - acc: 0.9720 - val_loss: 0.2842 - val_acc: 0.9094\n",
      "Epoch 6/30\n",
      "343/343 [==============================] - 88s 256ms/step - loss: 0.0633 - acc: 0.9799 - val_loss: 0.4603 - val_acc: 0.8826\n",
      "Epoch 7/30\n",
      "343/343 [==============================] - 87s 253ms/step - loss: 0.0470 - acc: 0.9844 - val_loss: 0.1706 - val_acc: 0.9485\n",
      "Epoch 8/30\n",
      "343/343 [==============================] - 87s 254ms/step - loss: 0.0364 - acc: 0.9881 - val_loss: 0.3219 - val_acc: 0.9158\n",
      "Epoch 9/30\n",
      "343/343 [==============================] - 87s 254ms/step - loss: 0.0328 - acc: 0.9889 - val_loss: 0.2016 - val_acc: 0.9430\n",
      "Epoch 10/30\n",
      "343/343 [==============================] - 87s 253ms/step - loss: 0.0262 - acc: 0.9916 - val_loss: 0.1684 - val_acc: 0.9505\n",
      "Epoch 11/30\n",
      "343/343 [==============================] - 86s 252ms/step - loss: 0.0224 - acc: 0.9931 - val_loss: 0.1746 - val_acc: 0.9501\n",
      "Epoch 12/30\n",
      "343/343 [==============================] - 86s 251ms/step - loss: 0.0231 - acc: 0.9927 - val_loss: 0.3010 - val_acc: 0.9256\n",
      "Epoch 13/30\n",
      "343/343 [==============================] - 87s 253ms/step - loss: 0.0209 - acc: 0.9934 - val_loss: 0.1926 - val_acc: 0.9492\n",
      "Epoch 14/30\n",
      "343/343 [==============================] - 87s 253ms/step - loss: 0.0168 - acc: 0.9942 - val_loss: 0.4969 - val_acc: 0.8909\n",
      "Epoch 15/30\n",
      "343/343 [==============================] - 87s 252ms/step - loss: 0.0149 - acc: 0.9947 - val_loss: 0.2073 - val_acc: 0.9507\n",
      "Epoch 16/30\n",
      "343/343 [==============================] - 87s 254ms/step - loss: 0.0156 - acc: 0.9948 - val_loss: 0.4096 - val_acc: 0.9109\n",
      "Epoch 17/30\n",
      "343/343 [==============================] - 87s 253ms/step - loss: 0.0158 - acc: 0.9944 - val_loss: 0.2246 - val_acc: 0.9459\n",
      "Epoch 18/30\n",
      "343/343 [==============================] - 87s 255ms/step - loss: 0.0158 - acc: 0.9952 - val_loss: 0.3770 - val_acc: 0.9190\n",
      "Epoch 19/30\n",
      "343/343 [==============================] - 87s 253ms/step - loss: 0.0138 - acc: 0.9955 - val_loss: 0.3715 - val_acc: 0.9200\n",
      "Epoch 20/30\n",
      "343/343 [==============================] - 87s 255ms/step - loss: 0.0146 - acc: 0.9945 - val_loss: 0.1982 - val_acc: 0.9547\n",
      "Epoch 21/30\n",
      "343/343 [==============================] - 87s 252ms/step - loss: 0.0109 - acc: 0.9963 - val_loss: 0.2148 - val_acc: 0.9543\n",
      "Epoch 22/30\n",
      "343/343 [==============================] - 87s 253ms/step - loss: 0.0125 - acc: 0.9961 - val_loss: 0.4157 - val_acc: 0.9109\n",
      "Epoch 23/30\n",
      "343/343 [==============================] - 86s 252ms/step - loss: 0.0108 - acc: 0.9968 - val_loss: 0.1864 - val_acc: 0.9598\n",
      "Epoch 24/30\n",
      "343/343 [==============================] - 86s 251ms/step - loss: 0.0112 - acc: 0.9956 - val_loss: 1.0458 - val_acc: 0.8335\n",
      "Epoch 25/30\n",
      "343/343 [==============================] - 86s 252ms/step - loss: 0.0101 - acc: 0.9970 - val_loss: 2.1545 - val_acc: 0.7274\n",
      "Epoch 26/30\n",
      "343/343 [==============================] - 87s 252ms/step - loss: 0.0100 - acc: 0.9965 - val_loss: 0.2939 - val_acc: 0.9444\n",
      "Epoch 27/30\n",
      "343/343 [==============================] - 87s 253ms/step - loss: 0.0106 - acc: 0.9964 - val_loss: 0.3215 - val_acc: 0.9344\n",
      "Epoch 28/30\n",
      "343/343 [==============================] - 87s 253ms/step - loss: 0.0111 - acc: 0.9961 - val_loss: 0.2691 - val_acc: 0.9477\n",
      "Epoch 29/30\n",
      "343/343 [==============================] - 86s 251ms/step - loss: 0.0089 - acc: 0.9971 - val_loss: 0.2004 - val_acc: 0.9580\n",
      "Epoch 30/30\n",
      "343/343 [==============================] - 86s 251ms/step - loss: 0.0095 - acc: 0.9969 - val_loss: 0.1980 - val_acc: 0.9594\n"
     ]
    }
   ],
   "source": [
    "total_sample=train_generator.n\n",
    "n_epochs = 30\n",
    "\n",
    "checkpoint = keras.callbacks.ModelCheckpoint('/content/abc.h5', monitor='val_loss', verbose=0, save_best_only=True, save_weights_only=False, mode='auto', period=1)\n",
    "tb = keras.callbacks.TensorBoard(log_dir='./logs', histogram_freq=0, batch_size=32, write_graph=True, write_grads=False, write_images=False, embeddings_freq=0, embeddings_layer_names=None, embeddings_metadata=None, embeddings_data=None, update_freq='epoch')\n",
    "\n",
    "\n",
    "history = model.fit_generator(\n",
    "        train_generator, \n",
    "        steps_per_epoch=int(total_sample/batch_size),  \n",
    "        epochs=n_epochs,\n",
    "        validation_data = val_generator,\n",
    "        callbacks = [checkpoint, tb],\n",
    "        verbose=1)"
   ]
  },
  {
   "cell_type": "markdown",
   "metadata": {
    "id": "yoxzKIXZniZI"
   },
   "source": [
    "Saving model other than checkpoint"
   ]
  },
  {
   "cell_type": "code",
   "execution_count": 27,
   "metadata": {
    "colab": {
     "base_uri": "https://localhost:8080/"
    },
    "id": "GFmW4eVgcCa_",
    "outputId": "c7666c52-9f2d-42b8-cbb6-5cf8a28ce07f"
   },
   "outputs": [
    {
     "name": "stdout",
     "output_type": "stream",
     "text": [
      "INFO:tensorflow:Assets written to: ./modelv2/assets\n"
     ]
    }
   ],
   "source": [
    "model.save('./modelv2')"
   ]
  },
  {
   "cell_type": "code",
   "execution_count": 28,
   "metadata": {
    "id": "WTxDkMLaf1SY"
   },
   "outputs": [],
   "source": [
    "model = tf.keras.models.load_model(\"modelv2\")"
   ]
  },
  {
   "cell_type": "code",
   "execution_count": 34,
   "metadata": {
    "id": "2ZEYtpX_gd7S"
   },
   "outputs": [],
   "source": [
    "acc = history.history['acc']\n",
    "val_acc = history.history['val_acc']\n",
    "loss = history.history['loss']\n",
    "val_loss = history.history['val_loss']\n",
    "epochs = range(1, len(acc) + 1)"
   ]
  },
  {
   "cell_type": "code",
   "execution_count": 35,
   "metadata": {
    "colab": {
     "base_uri": "https://localhost:8080/",
     "height": 545
    },
    "id": "3anyIV2Zg0IF",
    "outputId": "795c4b72-ebb5-415f-bef1-1723dd766635"
   },
   "outputs": [
    {
     "data": {
      "image/png": "[encoded data removed]",
      "text/plain": [
       "<Figure size 432x288 with 1 Axes>"
      ]
     },
     "metadata": {
      "needs_background": "light",
      "tags": []
     },
     "output_type": "display_data"
    },
    {
     "data": {
      "image/png": "[encoded data removed]",
      "text/plain": [
       "<Figure size 432x288 with 1 Axes>"
      ]
     },
     "metadata": {
      "needs_background": "light",
      "tags": []
     },
     "output_type": "display_data"
    }
   ],
   "source": [
    "# Train and validation accuracy\n",
    "plt.plot(epochs, acc, 'b', label='Training accurarcy')\n",
    "plt.plot(epochs, val_acc, 'r', label='Validation accurarcy')\n",
    "plt.title('Training and Validation accurarcy')\n",
    "plt.legend()\n",
    "\n",
    "plt.figure()\n",
    "\n",
    "# Train and validation loss\n",
    "plt.plot(epochs, loss, 'b', label='Training loss')\n",
    "plt.plot(epochs, val_loss, 'r', label='Validation loss')\n",
    "plt.title('Training and Validation loss')\n",
    "plt.legend()\n",
    "plt.show()"
   ]
  }
 ],
 "metadata": {
  "accelerator": "GPU",
  "colab": {
   "collapsed_sections": [],
   "machine_shape": "hm",
   "name": "pdd_v3",
   "provenance": []
  },
  "kernelspec": {
   "display_name": "Python 3",
   "language": "python",
   "name": "python3"
  },
  "language_info": {
   "codemirror_mode": {
    "name": "ipython",
    "version": 3
   },
   "file_extension": ".py",
   "mimetype": "text/x-python",
   "name": "python",
   "nbconvert_exporter": "python",
   "pygments_lexer": "ipython3",
   "version": "3.6.8"
  }
 },
 "nbformat": 4,
 "nbformat_minor": 1
}
